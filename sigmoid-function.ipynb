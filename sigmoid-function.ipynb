{
 "cells": [
  {
   "cell_type": "code",
   "execution_count": 1,
   "id": "86c72a6a-5bb4-4629-9545-a960dcefc365",
   "metadata": {},
   "outputs": [],
   "source": [
    "import math"
   ]
  },
  {
   "cell_type": "code",
   "execution_count": 3,
   "id": "a8267e86-1de7-48e0-a1f8-cff7a1465f96",
   "metadata": {},
   "outputs": [],
   "source": [
    "def sigmoid(z:float) -> float:\n",
    "    calc = 1 / (1+math.exp(-z))\n",
    "    return round(calc,3) #optional rounding step, change accordingly"
   ]
  },
  {
   "cell_type": "code",
   "execution_count": 4,
   "id": "312e8a39-594d-40ce-9f50-dc424ac08766",
   "metadata": {},
   "outputs": [
    {
     "data": {
      "text/plain": [
       "0.804"
      ]
     },
     "execution_count": 4,
     "metadata": {},
     "output_type": "execute_result"
    }
   ],
   "source": [
    "sigmoid(1.414)"
   ]
  },
  {
   "cell_type": "code",
   "execution_count": 5,
   "id": "91761e81-c79f-47bf-9389-a9bcc3ce3c02",
   "metadata": {},
   "outputs": [
    {
     "data": {
      "text/plain": [
       "0.5"
      ]
     },
     "execution_count": 5,
     "metadata": {},
     "output_type": "execute_result"
    }
   ],
   "source": [
    "sigmoid(0)"
   ]
  }
 ],
 "metadata": {
  "kernelspec": {
   "display_name": "anaconda-panel-2023.05-py310",
   "language": "python",
   "name": "conda-env-anaconda-panel-2023.05-py310-py"
  },
  "language_info": {
   "codemirror_mode": {
    "name": "ipython",
    "version": 3
   },
   "file_extension": ".py",
   "mimetype": "text/x-python",
   "name": "python",
   "nbconvert_exporter": "python",
   "pygments_lexer": "ipython3",
   "version": "3.11.5"
  }
 },
 "nbformat": 4,
 "nbformat_minor": 5
}
